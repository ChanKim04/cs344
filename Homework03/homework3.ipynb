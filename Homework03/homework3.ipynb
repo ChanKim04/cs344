{
  "nbformat": 4,
  "nbformat_minor": 0,
  "metadata": {
    "colab": {
      "name": "homework3.ipynb",
      "version": "0.3.2",
      "provenance": [],
      "collapsed_sections": []
    },
    "kernelspec": {
      "name": "python3",
      "display_name": "Python 3"
    }
  },
  "cells": [
    {
      "metadata": {
        "id": "j4zyzhDzT1FI",
        "colab_type": "text"
      },
      "cell_type": "markdown",
      "source": [
        "1. Consider the task of constructing a network of perceptrons that computes the XOR function. If this is possible, specify the network. If it is not possible, explain why it can’t be done."
      ]
    },
    {
      "metadata": {
        "id": "r7uOCVNeUA_3",
        "colab_type": "text"
      },
      "cell_type": "markdown",
      "source": [
        "A perceptron, mimicking a human neuron, can solve a linear problem such as AND or OR, but there is a limit to solving non-linear problems such as XOR. Multilayer perceptrons, however, can solve this problem, but the complexity of the operation becomes complicated as the layer becomes complex, making it difficult to learn the weight and bias of each layer. To solve this learning problem, we find the error through the given weight and bias and then adjust each layer by going back to the layer. This is called Backpropagation.\n",
        "\n",
        "In a simpler way, you can solve the XOR problem with three perceptrons. The three perceptrons have the logic of NAND, OR, and AND, respectively. Layers are composed of two layers: NAND and OR in the first layer and AND in the second layer. The input values pass through the first two perceptrons, NAND and OR, and the output value becomes the input value of AND. Finally, the value output through the AND is output the same as the XOR value, so that the XOR problem can be solved.\n",
        "\n",
        "```\n",
        " Input 1    Input2       NAND          OR       AND\n",
        "   0          0            1            0        0   \n",
        "   1          0            1            1        1\n",
        "   0          1            1            1        1   \n",
        "   1          1            0            0        0\n",
        "\n",
        "```"
      ]
    },
    {
      "metadata": {
        "id": "zIWT55dr6aHc",
        "colab_type": "text"
      },
      "cell_type": "markdown",
      "source": [
        "2. Use Python/NumPy/Pandas/Keras to load and manipulate the Boston Housing Dataset as follows."
      ]
    },
    {
      "metadata": {
        "id": "Tle8mrAdGtdq",
        "colab_type": "code",
        "colab": {}
      },
      "cell_type": "code",
      "source": [
        "from __future__ import print_function\n",
        "\n",
        "import math\n",
        "\n",
        "from IPython import display\n",
        "from matplotlib import cm\n",
        "from matplotlib import gridspec\n",
        "import matplotlib.pyplot as plt\n",
        "import numpy as np\n",
        "import pandas as pd\n",
        "import sklearn.metrics as metrics\n",
        "import tensorflow as tf\n",
        "from tensorflow.python.data import Dataset\n",
        "\n",
        "tf.logging.set_verbosity(tf.logging.ERROR)\n",
        "pd.options.display.max_rows = 10\n",
        "pd.options.display.float_format = '{:.1f}'.format\n",
        "\n",
        "boston_df = pd.read_csv(\"https://raw.githubusercontent.com/selva86/datasets/master/BostonHousing.csv\", sep=\",\")"
      ],
      "execution_count": 0,
      "outputs": []
    },
    {
      "metadata": {
        "id": "o2BoF47DPIgo",
        "colab_type": "text"
      },
      "cell_type": "markdown",
      "source": [
        "a. Compute the dimensions of the data structures. Include code to print these values."
      ]
    },
    {
      "metadata": {
        "id": "oJQdtv7LhNQp",
        "colab_type": "text"
      },
      "cell_type": "markdown",
      "source": [
        "Display the data size, shape and dimensions."
      ]
    },
    {
      "metadata": {
        "id": "IME7YUan6t1c",
        "colab_type": "code",
        "colab": {
          "base_uri": "https://localhost:8080/",
          "height": 89
        },
        "outputId": "20fb1350-5114-4200-ad06-c2d959fb351b"
      },
      "cell_type": "code",
      "source": [
        "print(\"Size = {}\\nShape ={}\\nShape[0] x Shape[1] = {}\". \n",
        "format(boston_df.size, boston_df.shape, boston_df.shape[0]*boston_df.shape[1])) \n",
        "  \n",
        "print(\"n dimensions = {}\". \n",
        "format(boston_df.ndim)) "
      ],
      "execution_count": 271,
      "outputs": [
        {
          "output_type": "stream",
          "text": [
            "Size = 7084\n",
            "Shape =(506, 14)\n",
            "Shape[0] x Shape[1] = 7084\n",
            "n dimensions = 2\n"
          ],
          "name": "stdout"
        }
      ]
    },
    {
      "metadata": {
        "id": "bq_SnrxMg1k_",
        "colab_type": "text"
      },
      "cell_type": "markdown",
      "source": [
        "Display the first few records of a data frame."
      ]
    },
    {
      "metadata": {
        "colab_type": "code",
        "outputId": "7fcea141-9634-4ee4-d4a3-9fd999b00aa3",
        "id": "FmU384UK5Txn",
        "colab": {
          "base_uri": "https://localhost:8080/",
          "height": 203
        }
      },
      "cell_type": "code",
      "source": [
        "boston_df.head()"
      ],
      "execution_count": 169,
      "outputs": [
        {
          "output_type": "execute_result",
          "data": {
            "text/html": [
              "<div>\n",
              "<style scoped>\n",
              "    .dataframe tbody tr th:only-of-type {\n",
              "        vertical-align: middle;\n",
              "    }\n",
              "\n",
              "    .dataframe tbody tr th {\n",
              "        vertical-align: top;\n",
              "    }\n",
              "\n",
              "    .dataframe thead th {\n",
              "        text-align: right;\n",
              "    }\n",
              "</style>\n",
              "<table border=\"1\" class=\"dataframe\">\n",
              "  <thead>\n",
              "    <tr style=\"text-align: right;\">\n",
              "      <th></th>\n",
              "      <th>crim</th>\n",
              "      <th>zn</th>\n",
              "      <th>indus</th>\n",
              "      <th>chas</th>\n",
              "      <th>nox</th>\n",
              "      <th>rm</th>\n",
              "      <th>age</th>\n",
              "      <th>dis</th>\n",
              "      <th>rad</th>\n",
              "      <th>tax</th>\n",
              "      <th>ptratio</th>\n",
              "      <th>b</th>\n",
              "      <th>lstat</th>\n",
              "      <th>medv</th>\n",
              "    </tr>\n",
              "  </thead>\n",
              "  <tbody>\n",
              "    <tr>\n",
              "      <th>0</th>\n",
              "      <td>0.0</td>\n",
              "      <td>18.0</td>\n",
              "      <td>2.3</td>\n",
              "      <td>0</td>\n",
              "      <td>0.5</td>\n",
              "      <td>6.6</td>\n",
              "      <td>65.2</td>\n",
              "      <td>4.1</td>\n",
              "      <td>1</td>\n",
              "      <td>296</td>\n",
              "      <td>15.3</td>\n",
              "      <td>396.9</td>\n",
              "      <td>5.0</td>\n",
              "      <td>24.0</td>\n",
              "    </tr>\n",
              "    <tr>\n",
              "      <th>1</th>\n",
              "      <td>0.0</td>\n",
              "      <td>0.0</td>\n",
              "      <td>7.1</td>\n",
              "      <td>0</td>\n",
              "      <td>0.5</td>\n",
              "      <td>6.4</td>\n",
              "      <td>78.9</td>\n",
              "      <td>5.0</td>\n",
              "      <td>2</td>\n",
              "      <td>242</td>\n",
              "      <td>17.8</td>\n",
              "      <td>396.9</td>\n",
              "      <td>9.1</td>\n",
              "      <td>21.6</td>\n",
              "    </tr>\n",
              "    <tr>\n",
              "      <th>2</th>\n",
              "      <td>0.0</td>\n",
              "      <td>0.0</td>\n",
              "      <td>7.1</td>\n",
              "      <td>0</td>\n",
              "      <td>0.5</td>\n",
              "      <td>7.2</td>\n",
              "      <td>61.1</td>\n",
              "      <td>5.0</td>\n",
              "      <td>2</td>\n",
              "      <td>242</td>\n",
              "      <td>17.8</td>\n",
              "      <td>392.8</td>\n",
              "      <td>4.0</td>\n",
              "      <td>34.7</td>\n",
              "    </tr>\n",
              "    <tr>\n",
              "      <th>3</th>\n",
              "      <td>0.0</td>\n",
              "      <td>0.0</td>\n",
              "      <td>2.2</td>\n",
              "      <td>0</td>\n",
              "      <td>0.5</td>\n",
              "      <td>7.0</td>\n",
              "      <td>45.8</td>\n",
              "      <td>6.1</td>\n",
              "      <td>3</td>\n",
              "      <td>222</td>\n",
              "      <td>18.7</td>\n",
              "      <td>394.6</td>\n",
              "      <td>2.9</td>\n",
              "      <td>33.4</td>\n",
              "    </tr>\n",
              "    <tr>\n",
              "      <th>4</th>\n",
              "      <td>0.1</td>\n",
              "      <td>0.0</td>\n",
              "      <td>2.2</td>\n",
              "      <td>0</td>\n",
              "      <td>0.5</td>\n",
              "      <td>7.1</td>\n",
              "      <td>54.2</td>\n",
              "      <td>6.1</td>\n",
              "      <td>3</td>\n",
              "      <td>222</td>\n",
              "      <td>18.7</td>\n",
              "      <td>396.9</td>\n",
              "      <td>5.3</td>\n",
              "      <td>36.2</td>\n",
              "    </tr>\n",
              "  </tbody>\n",
              "</table>\n",
              "</div>"
            ],
            "text/plain": [
              "   crim   zn  indus  chas  nox  rm  age  dis  rad  tax  ptratio     b  lstat  \\\n",
              "0   0.0 18.0    2.3     0  0.5 6.6 65.2  4.1    1  296     15.3 396.9    5.0   \n",
              "1   0.0  0.0    7.1     0  0.5 6.4 78.9  5.0    2  242     17.8 396.9    9.1   \n",
              "2   0.0  0.0    7.1     0  0.5 7.2 61.1  5.0    2  242     17.8 392.8    4.0   \n",
              "3   0.0  0.0    2.2     0  0.5 7.0 45.8  6.1    3  222     18.7 394.6    2.9   \n",
              "4   0.1  0.0    2.2     0  0.5 7.1 54.2  6.1    3  222     18.7 396.9    5.3   \n",
              "\n",
              "   medv  \n",
              "0  24.0  \n",
              "1  21.6  \n",
              "2  34.7  \n",
              "3  33.4  \n",
              "4  36.2  "
            ]
          },
          "metadata": {
            "tags": []
          },
          "execution_count": 169
        }
      ]
    },
    {
      "metadata": {
        "id": "riU-71Xvg-HL",
        "colab_type": "text"
      },
      "cell_type": "markdown",
      "source": [
        "Display a quick summary of a few statistics."
      ]
    },
    {
      "metadata": {
        "id": "sO4fJDXi6FWu",
        "colab_type": "code",
        "colab": {
          "base_uri": "https://localhost:8080/",
          "height": 295
        },
        "outputId": "abf1d961-204d-4979-a025-96b01b75e6e5"
      },
      "cell_type": "code",
      "source": [
        "boston_df.describe()"
      ],
      "execution_count": 170,
      "outputs": [
        {
          "output_type": "execute_result",
          "data": {
            "text/html": [
              "<div>\n",
              "<style scoped>\n",
              "    .dataframe tbody tr th:only-of-type {\n",
              "        vertical-align: middle;\n",
              "    }\n",
              "\n",
              "    .dataframe tbody tr th {\n",
              "        vertical-align: top;\n",
              "    }\n",
              "\n",
              "    .dataframe thead th {\n",
              "        text-align: right;\n",
              "    }\n",
              "</style>\n",
              "<table border=\"1\" class=\"dataframe\">\n",
              "  <thead>\n",
              "    <tr style=\"text-align: right;\">\n",
              "      <th></th>\n",
              "      <th>crim</th>\n",
              "      <th>zn</th>\n",
              "      <th>indus</th>\n",
              "      <th>chas</th>\n",
              "      <th>nox</th>\n",
              "      <th>rm</th>\n",
              "      <th>age</th>\n",
              "      <th>dis</th>\n",
              "      <th>rad</th>\n",
              "      <th>tax</th>\n",
              "      <th>ptratio</th>\n",
              "      <th>b</th>\n",
              "      <th>lstat</th>\n",
              "      <th>medv</th>\n",
              "    </tr>\n",
              "  </thead>\n",
              "  <tbody>\n",
              "    <tr>\n",
              "      <th>count</th>\n",
              "      <td>506.0</td>\n",
              "      <td>506.0</td>\n",
              "      <td>506.0</td>\n",
              "      <td>506.0</td>\n",
              "      <td>506.0</td>\n",
              "      <td>506.0</td>\n",
              "      <td>506.0</td>\n",
              "      <td>506.0</td>\n",
              "      <td>506.0</td>\n",
              "      <td>506.0</td>\n",
              "      <td>506.0</td>\n",
              "      <td>506.0</td>\n",
              "      <td>506.0</td>\n",
              "      <td>506.0</td>\n",
              "    </tr>\n",
              "    <tr>\n",
              "      <th>mean</th>\n",
              "      <td>3.6</td>\n",
              "      <td>11.4</td>\n",
              "      <td>11.1</td>\n",
              "      <td>0.1</td>\n",
              "      <td>0.6</td>\n",
              "      <td>6.3</td>\n",
              "      <td>68.6</td>\n",
              "      <td>3.8</td>\n",
              "      <td>9.5</td>\n",
              "      <td>408.2</td>\n",
              "      <td>18.5</td>\n",
              "      <td>356.7</td>\n",
              "      <td>12.7</td>\n",
              "      <td>22.5</td>\n",
              "    </tr>\n",
              "    <tr>\n",
              "      <th>std</th>\n",
              "      <td>8.6</td>\n",
              "      <td>23.3</td>\n",
              "      <td>6.9</td>\n",
              "      <td>0.3</td>\n",
              "      <td>0.1</td>\n",
              "      <td>0.7</td>\n",
              "      <td>28.1</td>\n",
              "      <td>2.1</td>\n",
              "      <td>8.7</td>\n",
              "      <td>168.5</td>\n",
              "      <td>2.2</td>\n",
              "      <td>91.3</td>\n",
              "      <td>7.1</td>\n",
              "      <td>9.2</td>\n",
              "    </tr>\n",
              "    <tr>\n",
              "      <th>min</th>\n",
              "      <td>0.0</td>\n",
              "      <td>0.0</td>\n",
              "      <td>0.5</td>\n",
              "      <td>0.0</td>\n",
              "      <td>0.4</td>\n",
              "      <td>3.6</td>\n",
              "      <td>2.9</td>\n",
              "      <td>1.1</td>\n",
              "      <td>1.0</td>\n",
              "      <td>187.0</td>\n",
              "      <td>12.6</td>\n",
              "      <td>0.3</td>\n",
              "      <td>1.7</td>\n",
              "      <td>5.0</td>\n",
              "    </tr>\n",
              "    <tr>\n",
              "      <th>25%</th>\n",
              "      <td>0.1</td>\n",
              "      <td>0.0</td>\n",
              "      <td>5.2</td>\n",
              "      <td>0.0</td>\n",
              "      <td>0.4</td>\n",
              "      <td>5.9</td>\n",
              "      <td>45.0</td>\n",
              "      <td>2.1</td>\n",
              "      <td>4.0</td>\n",
              "      <td>279.0</td>\n",
              "      <td>17.4</td>\n",
              "      <td>375.4</td>\n",
              "      <td>6.9</td>\n",
              "      <td>17.0</td>\n",
              "    </tr>\n",
              "    <tr>\n",
              "      <th>50%</th>\n",
              "      <td>0.3</td>\n",
              "      <td>0.0</td>\n",
              "      <td>9.7</td>\n",
              "      <td>0.0</td>\n",
              "      <td>0.5</td>\n",
              "      <td>6.2</td>\n",
              "      <td>77.5</td>\n",
              "      <td>3.2</td>\n",
              "      <td>5.0</td>\n",
              "      <td>330.0</td>\n",
              "      <td>19.1</td>\n",
              "      <td>391.4</td>\n",
              "      <td>11.4</td>\n",
              "      <td>21.2</td>\n",
              "    </tr>\n",
              "    <tr>\n",
              "      <th>75%</th>\n",
              "      <td>3.7</td>\n",
              "      <td>12.5</td>\n",
              "      <td>18.1</td>\n",
              "      <td>0.0</td>\n",
              "      <td>0.6</td>\n",
              "      <td>6.6</td>\n",
              "      <td>94.1</td>\n",
              "      <td>5.2</td>\n",
              "      <td>24.0</td>\n",
              "      <td>666.0</td>\n",
              "      <td>20.2</td>\n",
              "      <td>396.2</td>\n",
              "      <td>17.0</td>\n",
              "      <td>25.0</td>\n",
              "    </tr>\n",
              "    <tr>\n",
              "      <th>max</th>\n",
              "      <td>89.0</td>\n",
              "      <td>100.0</td>\n",
              "      <td>27.7</td>\n",
              "      <td>1.0</td>\n",
              "      <td>0.9</td>\n",
              "      <td>8.8</td>\n",
              "      <td>100.0</td>\n",
              "      <td>12.1</td>\n",
              "      <td>24.0</td>\n",
              "      <td>711.0</td>\n",
              "      <td>22.0</td>\n",
              "      <td>396.9</td>\n",
              "      <td>38.0</td>\n",
              "      <td>50.0</td>\n",
              "    </tr>\n",
              "  </tbody>\n",
              "</table>\n",
              "</div>"
            ],
            "text/plain": [
              "       crim    zn  indus  chas   nox    rm   age   dis   rad   tax  ptratio  \\\n",
              "count 506.0 506.0  506.0 506.0 506.0 506.0 506.0 506.0 506.0 506.0    506.0   \n",
              "mean    3.6  11.4   11.1   0.1   0.6   6.3  68.6   3.8   9.5 408.2     18.5   \n",
              "std     8.6  23.3    6.9   0.3   0.1   0.7  28.1   2.1   8.7 168.5      2.2   \n",
              "min     0.0   0.0    0.5   0.0   0.4   3.6   2.9   1.1   1.0 187.0     12.6   \n",
              "25%     0.1   0.0    5.2   0.0   0.4   5.9  45.0   2.1   4.0 279.0     17.4   \n",
              "50%     0.3   0.0    9.7   0.0   0.5   6.2  77.5   3.2   5.0 330.0     19.1   \n",
              "75%     3.7  12.5   18.1   0.0   0.6   6.6  94.1   5.2  24.0 666.0     20.2   \n",
              "max    89.0 100.0   27.7   1.0   0.9   8.8 100.0  12.1  24.0 711.0     22.0   \n",
              "\n",
              "          b  lstat  medv  \n",
              "count 506.0  506.0 506.0  \n",
              "mean  356.7   12.7  22.5  \n",
              "std    91.3    7.1   9.2  \n",
              "min     0.3    1.7   5.0  \n",
              "25%   375.4    6.9  17.0  \n",
              "50%   391.4   11.4  21.2  \n",
              "75%   396.2   17.0  25.0  \n",
              "max   396.9   38.0  50.0  "
            ]
          },
          "metadata": {
            "tags": []
          },
          "execution_count": 170
        }
      ]
    },
    {
      "metadata": {
        "id": "iLKXaZvXBxr_",
        "colab_type": "code",
        "colab": {}
      },
      "cell_type": "code",
      "source": [
        "def preprocess_features(boston_df):\n",
        "  \"\"\"Prepares input features from Boston housing data set.\n",
        "\n",
        "  Args:\n",
        "    boston_df: A Pandas DataFrame expected to contain data\n",
        "      from the Boston housing data set.\n",
        "  Returns:\n",
        "    A DataFrame that contains the features to be used for the model, including\n",
        "    synthetic features.\n",
        "  \"\"\"\n",
        "  selected_features = boston_df\n",
        "  processed_features = selected_features.copy()\n",
        "  # Create a synthetic feature.\n",
        "  processed_features[\"pop_density\"] = (boston_df[\"b\"] / boston_df[\"rm\"])\n",
        "  return processed_features\n",
        "\n",
        "def preprocess_targets(boston_df):\n",
        "  \"\"\"Prepares target features (i.e., labels) from Boston housing data set.\n",
        "\n",
        "  Args:\n",
        "    boston_df: A Pandas DataFrame expected to contain data\n",
        "      from the Boston housing data set.\n",
        "  Returns:\n",
        "    A DataFrame that contains the target feature.\n",
        "  \"\"\"\n",
        "  output_targets = pd.DataFrame()\n",
        "  # Scale the target to be in units of thousands of dollars.\n",
        "  output_targets[\"medv\"] = (boston_df[\"medv\"])\n",
        "  return output_targets"
      ],
      "execution_count": 0,
      "outputs": []
    },
    {
      "metadata": {
        "id": "H2_FW7O1FmoH",
        "colab_type": "code",
        "colab": {}
      },
      "cell_type": "code",
      "source": [
        "boston_df = boston_df.reindex(\n",
        "    np.random.permutation(boston_df.index))"
      ],
      "execution_count": 0,
      "outputs": []
    },
    {
      "metadata": {
        "id": "fpNqpKoskMpT",
        "colab_type": "text"
      },
      "cell_type": "markdown",
      "source": [
        "b. Construct a suitable testing set, training set, and validation set for this data. Submit code to create these datasets but do not include the datasets themselves."
      ]
    },
    {
      "metadata": {
        "id": "x2Vre6uhP5Hg",
        "colab_type": "text"
      },
      "cell_type": "markdown",
      "source": [
        "Choose the first 350 examples, out of the total 506 for the training set."
      ]
    },
    {
      "metadata": {
        "id": "l20uZiXpCeu0",
        "colab_type": "code",
        "colab": {}
      },
      "cell_type": "code",
      "source": [
        "training_examples = preprocess_features(boston_df.head(350))"
      ],
      "execution_count": 0,
      "outputs": []
    },
    {
      "metadata": {
        "id": "q7as0BmBClxq",
        "colab_type": "code",
        "colab": {}
      },
      "cell_type": "code",
      "source": [
        "training_targets = preprocess_targets(boston_df.head(350))"
      ],
      "execution_count": 0,
      "outputs": []
    },
    {
      "metadata": {
        "id": "wYh0faXRhpUa",
        "colab_type": "text"
      },
      "cell_type": "markdown",
      "source": [
        "Choose the last 140 examples, out of the total 506 for the validation set."
      ]
    },
    {
      "metadata": {
        "id": "C3GzlSdOC92w",
        "colab_type": "code",
        "colab": {}
      },
      "cell_type": "code",
      "source": [
        "validation_examples = preprocess_features(boston_df.tail(140))"
      ],
      "execution_count": 0,
      "outputs": []
    },
    {
      "metadata": {
        "id": "b3iH82MQDEFV",
        "colab_type": "code",
        "colab": {}
      },
      "cell_type": "code",
      "source": [
        "validation_targets = preprocess_targets(boston_df.tail(140))"
      ],
      "execution_count": 0,
      "outputs": []
    },
    {
      "metadata": {
        "id": "7pfg8TlGhvh2",
        "colab_type": "text"
      },
      "cell_type": "markdown",
      "source": [
        "Choose 100 examples randomly, out of the total 506 for the training set."
      ]
    },
    {
      "metadata": {
        "id": "8y2-JZJfK6vF",
        "colab_type": "code",
        "colab": {}
      },
      "cell_type": "code",
      "source": [
        "boston_test_df = pd.read_csv(\"https://raw.githubusercontent.com/selva86/datasets/master/BostonHousing.csv\", sep=\",\")\n",
        "boston_test_df = boston_test_df.sample(n=100)"
      ],
      "execution_count": 0,
      "outputs": []
    },
    {
      "metadata": {
        "id": "7-eYutfo6FFg",
        "colab_type": "text"
      },
      "cell_type": "markdown",
      "source": [
        "c. Create one new synthetic feature that could be useful for machine learning in this domain. Explain what it is and why it might be useful."
      ]
    },
    {
      "metadata": {
        "id": "_ivCYAq-Cdot",
        "colab_type": "text"
      },
      "cell_type": "markdown",
      "source": [
        "I calculated the population density in an indirect way. Since the data gives processed data such as ratio, probability, average, and percent, rather than giving raw data such as population, I indirectly calculate the number by comparing the proportion of blocks with the average number of rooms per dwelling. This data can be used to calculate how many people are in a block and compare the results with other data to predict the outcome. For example, you can compare the crime rate or the median house value to see if there are correlations between related values when there are many people. Below are the data which have learned by comparing medv and pop_density."
      ]
    },
    {
      "metadata": {
        "id": "h5VDgl637G9s",
        "colab_type": "code",
        "colab": {
          "base_uri": "https://localhost:8080/",
          "height": 295
        },
        "outputId": "0f31eea7-1408-4249-93c1-9e7853903c37"
      },
      "cell_type": "code",
      "source": [
        "boston_df[\"pop_density\"] = (boston_df[\"b\"] / boston_df[\"rm\"])\n",
        "boston_df.describe()"
      ],
      "execution_count": 263,
      "outputs": [
        {
          "output_type": "execute_result",
          "data": {
            "text/html": [
              "<div>\n",
              "<style scoped>\n",
              "    .dataframe tbody tr th:only-of-type {\n",
              "        vertical-align: middle;\n",
              "    }\n",
              "\n",
              "    .dataframe tbody tr th {\n",
              "        vertical-align: top;\n",
              "    }\n",
              "\n",
              "    .dataframe thead th {\n",
              "        text-align: right;\n",
              "    }\n",
              "</style>\n",
              "<table border=\"1\" class=\"dataframe\">\n",
              "  <thead>\n",
              "    <tr style=\"text-align: right;\">\n",
              "      <th></th>\n",
              "      <th>crim</th>\n",
              "      <th>zn</th>\n",
              "      <th>indus</th>\n",
              "      <th>chas</th>\n",
              "      <th>nox</th>\n",
              "      <th>rm</th>\n",
              "      <th>age</th>\n",
              "      <th>dis</th>\n",
              "      <th>rad</th>\n",
              "      <th>tax</th>\n",
              "      <th>ptratio</th>\n",
              "      <th>b</th>\n",
              "      <th>lstat</th>\n",
              "      <th>medv</th>\n",
              "      <th>pop_density</th>\n",
              "    </tr>\n",
              "  </thead>\n",
              "  <tbody>\n",
              "    <tr>\n",
              "      <th>count</th>\n",
              "      <td>506.0</td>\n",
              "      <td>506.0</td>\n",
              "      <td>506.0</td>\n",
              "      <td>506.0</td>\n",
              "      <td>506.0</td>\n",
              "      <td>506.0</td>\n",
              "      <td>506.0</td>\n",
              "      <td>506.0</td>\n",
              "      <td>506.0</td>\n",
              "      <td>506.0</td>\n",
              "      <td>506.0</td>\n",
              "      <td>506.0</td>\n",
              "      <td>506.0</td>\n",
              "      <td>506.0</td>\n",
              "      <td>506.0</td>\n",
              "    </tr>\n",
              "    <tr>\n",
              "      <th>mean</th>\n",
              "      <td>3.6</td>\n",
              "      <td>11.4</td>\n",
              "      <td>11.1</td>\n",
              "      <td>0.1</td>\n",
              "      <td>0.6</td>\n",
              "      <td>6.3</td>\n",
              "      <td>68.6</td>\n",
              "      <td>3.8</td>\n",
              "      <td>9.5</td>\n",
              "      <td>408.2</td>\n",
              "      <td>18.5</td>\n",
              "      <td>356.7</td>\n",
              "      <td>12.7</td>\n",
              "      <td>22.5</td>\n",
              "      <td>57.3</td>\n",
              "    </tr>\n",
              "    <tr>\n",
              "      <th>std</th>\n",
              "      <td>8.6</td>\n",
              "      <td>23.3</td>\n",
              "      <td>6.9</td>\n",
              "      <td>0.3</td>\n",
              "      <td>0.1</td>\n",
              "      <td>0.7</td>\n",
              "      <td>28.1</td>\n",
              "      <td>2.1</td>\n",
              "      <td>8.7</td>\n",
              "      <td>168.5</td>\n",
              "      <td>2.2</td>\n",
              "      <td>91.3</td>\n",
              "      <td>7.1</td>\n",
              "      <td>9.2</td>\n",
              "      <td>15.7</td>\n",
              "    </tr>\n",
              "    <tr>\n",
              "      <th>min</th>\n",
              "      <td>0.0</td>\n",
              "      <td>0.0</td>\n",
              "      <td>0.5</td>\n",
              "      <td>0.0</td>\n",
              "      <td>0.4</td>\n",
              "      <td>3.6</td>\n",
              "      <td>2.9</td>\n",
              "      <td>1.1</td>\n",
              "      <td>1.0</td>\n",
              "      <td>187.0</td>\n",
              "      <td>12.6</td>\n",
              "      <td>0.3</td>\n",
              "      <td>1.7</td>\n",
              "      <td>5.0</td>\n",
              "      <td>0.0</td>\n",
              "    </tr>\n",
              "    <tr>\n",
              "      <th>25%</th>\n",
              "      <td>0.1</td>\n",
              "      <td>0.0</td>\n",
              "      <td>5.2</td>\n",
              "      <td>0.0</td>\n",
              "      <td>0.4</td>\n",
              "      <td>5.9</td>\n",
              "      <td>45.0</td>\n",
              "      <td>2.1</td>\n",
              "      <td>4.0</td>\n",
              "      <td>279.0</td>\n",
              "      <td>17.4</td>\n",
              "      <td>375.4</td>\n",
              "      <td>6.9</td>\n",
              "      <td>17.0</td>\n",
              "      <td>55.3</td>\n",
              "    </tr>\n",
              "    <tr>\n",
              "      <th>50%</th>\n",
              "      <td>0.3</td>\n",
              "      <td>0.0</td>\n",
              "      <td>9.7</td>\n",
              "      <td>0.0</td>\n",
              "      <td>0.5</td>\n",
              "      <td>6.2</td>\n",
              "      <td>77.5</td>\n",
              "      <td>3.2</td>\n",
              "      <td>5.0</td>\n",
              "      <td>330.0</td>\n",
              "      <td>19.1</td>\n",
              "      <td>391.4</td>\n",
              "      <td>11.4</td>\n",
              "      <td>21.2</td>\n",
              "      <td>61.2</td>\n",
              "    </tr>\n",
              "    <tr>\n",
              "      <th>75%</th>\n",
              "      <td>3.7</td>\n",
              "      <td>12.5</td>\n",
              "      <td>18.1</td>\n",
              "      <td>0.0</td>\n",
              "      <td>0.6</td>\n",
              "      <td>6.6</td>\n",
              "      <td>94.1</td>\n",
              "      <td>5.2</td>\n",
              "      <td>24.0</td>\n",
              "      <td>666.0</td>\n",
              "      <td>20.2</td>\n",
              "      <td>396.2</td>\n",
              "      <td>17.0</td>\n",
              "      <td>25.0</td>\n",
              "      <td>65.2</td>\n",
              "    </tr>\n",
              "    <tr>\n",
              "      <th>max</th>\n",
              "      <td>89.0</td>\n",
              "      <td>100.0</td>\n",
              "      <td>27.7</td>\n",
              "      <td>1.0</td>\n",
              "      <td>0.9</td>\n",
              "      <td>8.8</td>\n",
              "      <td>100.0</td>\n",
              "      <td>12.1</td>\n",
              "      <td>24.0</td>\n",
              "      <td>711.0</td>\n",
              "      <td>22.0</td>\n",
              "      <td>396.9</td>\n",
              "      <td>38.0</td>\n",
              "      <td>50.0</td>\n",
              "      <td>99.6</td>\n",
              "    </tr>\n",
              "  </tbody>\n",
              "</table>\n",
              "</div>"
            ],
            "text/plain": [
              "       crim    zn  indus  chas   nox    rm   age   dis   rad   tax  ptratio  \\\n",
              "count 506.0 506.0  506.0 506.0 506.0 506.0 506.0 506.0 506.0 506.0    506.0   \n",
              "mean    3.6  11.4   11.1   0.1   0.6   6.3  68.6   3.8   9.5 408.2     18.5   \n",
              "std     8.6  23.3    6.9   0.3   0.1   0.7  28.1   2.1   8.7 168.5      2.2   \n",
              "min     0.0   0.0    0.5   0.0   0.4   3.6   2.9   1.1   1.0 187.0     12.6   \n",
              "25%     0.1   0.0    5.2   0.0   0.4   5.9  45.0   2.1   4.0 279.0     17.4   \n",
              "50%     0.3   0.0    9.7   0.0   0.5   6.2  77.5   3.2   5.0 330.0     19.1   \n",
              "75%     3.7  12.5   18.1   0.0   0.6   6.6  94.1   5.2  24.0 666.0     20.2   \n",
              "max    89.0 100.0   27.7   1.0   0.9   8.8 100.0  12.1  24.0 711.0     22.0   \n",
              "\n",
              "          b  lstat  medv  pop_density  \n",
              "count 506.0  506.0 506.0        506.0  \n",
              "mean  356.7   12.7  22.5         57.3  \n",
              "std    91.3    7.1   9.2         15.7  \n",
              "min     0.3    1.7   5.0          0.0  \n",
              "25%   375.4    6.9  17.0         55.3  \n",
              "50%   391.4   11.4  21.2         61.2  \n",
              "75%   396.2   17.0  25.0         65.2  \n",
              "max   396.9   38.0  50.0         99.6  "
            ]
          },
          "metadata": {
            "tags": []
          },
          "execution_count": 263
        }
      ]
    },
    {
      "metadata": {
        "id": "OufLCG18ktXT",
        "colab_type": "text"
      },
      "cell_type": "markdown",
      "source": [
        "Train model with the synthetic feature, pop_density."
      ]
    },
    {
      "metadata": {
        "id": "hzynoW6l8HpS",
        "colab_type": "code",
        "colab": {}
      },
      "cell_type": "code",
      "source": [
        "# From the TensorFlow synthetic features and outliers tutorial\n",
        "# https://colab.research.google.com/notebooks/mlcc/synthetic_features_and_outliers.ipynb#scrollTo=i5Ul3zf5QYvWdef train_model(learning_rate, steps, batch_size, input_feature):\n",
        "  \"\"\"Trains a linear regression model.\n",
        "  \n",
        "  Args:\n",
        "    learning_rate: A `float`, the learning rate.\n",
        "    steps: A non-zero `int`, the total number of training steps. A training step\n",
        "      consists of a forward and backward pass using a single batch.\n",
        "    batch_size: A non-zero `int`, the batch size.\n",
        "    input_feature: A `string` specifying a column from `boston_df`\n",
        "      to use as input feature.\n",
        "      \n",
        "  Returns:\n",
        "    A Pandas `DataFrame` containing targets and the corresponding predictions done\n",
        "    after training the model.\n",
        "  \"\"\"\n",
        "  \n",
        "  periods = 10\n",
        "  steps_per_period = steps / periods\n",
        "\n",
        "  my_feature = input_feature\n",
        "  my_feature_data = boston_df[[my_feature]].astype('float32')\n",
        "  my_label = \"medv\"\n",
        "  targets = boston_df[my_label].astype('float32')\n",
        "\n",
        "  # Create input functions.\n",
        "  training_input_fn = lambda: my_input_fn(my_feature_data, targets, batch_size=batch_size)\n",
        "  predict_training_input_fn = lambda: my_input_fn(my_feature_data, targets, num_epochs=1, shuffle=False)\n",
        "  \n",
        "  # Create feature columns.\n",
        "  feature_columns = [tf.feature_column.numeric_column(my_feature)]\n",
        "    \n",
        "  # Create a linear regressor object.\n",
        "  my_optimizer = tf.train.GradientDescentOptimizer(learning_rate=learning_rate)\n",
        "  my_optimizer = tf.contrib.estimator.clip_gradients_by_norm(my_optimizer, 5.0)\n",
        "  linear_regressor = tf.estimator.LinearRegressor(\n",
        "      feature_columns=feature_columns,\n",
        "      optimizer=my_optimizer\n",
        "  )\n",
        "\n",
        "  # Set up to plot the state of our model's line each period.\n",
        "  plt.figure(figsize=(15, 6))\n",
        "  plt.subplot(1, 2, 1)\n",
        "  plt.title(\"Learned Line by Period\")\n",
        "  plt.ylabel(my_label)\n",
        "  plt.xlabel(my_feature)\n",
        "  sample = boston_df.sample(n=300)\n",
        "  plt.scatter(sample[my_feature], sample[my_label])\n",
        "  colors = [cm.coolwarm(x) for x in np.linspace(-1, 1, periods)]\n",
        "\n",
        "  # Train the model, but do so inside a loop so that we can periodically assess\n",
        "  # loss metrics.\n",
        "  print(\"Training model...\")\n",
        "  print(\"RMSE (on training data):\")\n",
        "  root_mean_squared_errors = []\n",
        "  for period in range (0, periods):\n",
        "    # Train the model, starting from the prior state.\n",
        "    linear_regressor.train(\n",
        "        input_fn=training_input_fn,\n",
        "        steps=steps_per_period,\n",
        "    )\n",
        "    # Take a break and compute predictions.\n",
        "    predictions = linear_regressor.predict(input_fn=predict_training_input_fn)\n",
        "    predictions = np.array([item['predictions'][0] for item in predictions])\n",
        "    \n",
        "    # Compute loss.\n",
        "    root_mean_squared_error = math.sqrt(\n",
        "      metrics.mean_squared_error(predictions, targets))\n",
        "    # Occasionally print the current loss.\n",
        "    print(\"  period %02d : %0.2f\" % (period, root_mean_squared_error))\n",
        "    # Add the loss metrics from this period to our list.\n",
        "    root_mean_squared_errors.append(root_mean_squared_error)\n",
        "    # Finally, track the weights and biases over time.\n",
        "    # Apply some math to ensure that the data and line are plotted neatly.\n",
        "    y_extents = np.array([0, sample[my_label].max()])\n",
        "    \n",
        "    weight = linear_regressor.get_variable_value('linear/linear_model/%s/weights' % input_feature)[0]\n",
        "    bias = linear_regressor.get_variable_value('linear/linear_model/bias_weights')\n",
        "    \n",
        "    x_extents = (y_extents - bias) / weight\n",
        "    x_extents = np.maximum(np.minimum(x_extents,\n",
        "                                      sample[my_feature].max()),\n",
        "                           sample[my_feature].min())\n",
        "    y_extents = weight * x_extents + bias\n",
        "    plt.plot(x_extents, y_extents, color=colors[period]) \n",
        "  print(\"Model training finished.\")\n",
        "\n",
        "  # Output a graph of loss metrics over periods.\n",
        "  plt.subplot(1, 2, 2)\n",
        "  plt.ylabel('RMSE')\n",
        "  plt.xlabel('Periods')\n",
        "  plt.title(\"Root Mean Squared Error vs. Periods\")\n",
        "  plt.tight_layout()\n",
        "  plt.plot(root_mean_squared_errors)\n",
        "\n",
        "  # Create a table with calibration data.\n",
        "  calibration_data = pd.DataFrame()\n",
        "  calibration_data[\"predictions\"] = pd.Series(predictions)\n",
        "  calibration_data[\"targets\"] = pd.Series(targets)\n",
        "  display.display(calibration_data.describe())\n",
        "\n",
        "  print(\"Final RMSE (on training data): %0.2f\" % root_mean_squared_error)\n",
        "  \n",
        "  return calibration_data"
      ],
      "execution_count": 0,
      "outputs": []
    },
    {
      "metadata": {
        "id": "qaouqFlF8Qvw",
        "colab_type": "code",
        "colab": {
          "base_uri": "https://localhost:8080/",
          "height": 967
        },
        "outputId": "b506f33b-4355-451a-caff-242c6eaac30d"
      },
      "cell_type": "code",
      "source": [
        "calibration_data = train_model(\n",
        "    learning_rate=0.0002,\n",
        "    steps=500,\n",
        "    batch_size=5,\n",
        "    input_feature=\"pop_density\")"
      ],
      "execution_count": 267,
      "outputs": [
        {
          "output_type": "stream",
          "text": [
            "Training model...\n",
            "RMSE (on training data):\n",
            "  period 00 : 21.71\n",
            "  period 01 : 19.19\n",
            "  period 02 : 16.81\n",
            "  period 03 : 14.65\n",
            "  period 04 : 12.82\n",
            "  period 05 : 11.74\n",
            "  period 06 : 11.12\n",
            "  period 07 : 11.03\n",
            "  period 08 : 10.93\n",
            "  period 09 : 10.84\n",
            "Model training finished.\n"
          ],
          "name": "stdout"
        },
        {
          "output_type": "display_data",
          "data": {
            "text/html": [
              "<div>\n",
              "<style scoped>\n",
              "    .dataframe tbody tr th:only-of-type {\n",
              "        vertical-align: middle;\n",
              "    }\n",
              "\n",
              "    .dataframe tbody tr th {\n",
              "        vertical-align: top;\n",
              "    }\n",
              "\n",
              "    .dataframe thead th {\n",
              "        text-align: right;\n",
              "    }\n",
              "</style>\n",
              "<table border=\"1\" class=\"dataframe\">\n",
              "  <thead>\n",
              "    <tr style=\"text-align: right;\">\n",
              "      <th></th>\n",
              "      <th>predictions</th>\n",
              "      <th>targets</th>\n",
              "    </tr>\n",
              "  </thead>\n",
              "  <tbody>\n",
              "    <tr>\n",
              "      <th>count</th>\n",
              "      <td>506.0</td>\n",
              "      <td>506.0</td>\n",
              "    </tr>\n",
              "    <tr>\n",
              "      <th>mean</th>\n",
              "      <td>19.7</td>\n",
              "      <td>22.5</td>\n",
              "    </tr>\n",
              "    <tr>\n",
              "      <th>std</th>\n",
              "      <td>5.4</td>\n",
              "      <td>9.2</td>\n",
              "    </tr>\n",
              "    <tr>\n",
              "      <th>min</th>\n",
              "      <td>0.0</td>\n",
              "      <td>5.0</td>\n",
              "    </tr>\n",
              "    <tr>\n",
              "      <th>25%</th>\n",
              "      <td>19.0</td>\n",
              "      <td>17.0</td>\n",
              "    </tr>\n",
              "    <tr>\n",
              "      <th>50%</th>\n",
              "      <td>21.0</td>\n",
              "      <td>21.2</td>\n",
              "    </tr>\n",
              "    <tr>\n",
              "      <th>75%</th>\n",
              "      <td>22.4</td>\n",
              "      <td>25.0</td>\n",
              "    </tr>\n",
              "    <tr>\n",
              "      <th>max</th>\n",
              "      <td>34.2</td>\n",
              "      <td>50.0</td>\n",
              "    </tr>\n",
              "  </tbody>\n",
              "</table>\n",
              "</div>"
            ],
            "text/plain": [
              "       predictions  targets\n",
              "count        506.0    506.0\n",
              "mean          19.7     22.5\n",
              "std            5.4      9.2\n",
              "min            0.0      5.0\n",
              "25%           19.0     17.0\n",
              "50%           21.0     21.2\n",
              "75%           22.4     25.0\n",
              "max           34.2     50.0"
            ]
          },
          "metadata": {
            "tags": []
          }
        },
        {
          "output_type": "stream",
          "text": [
            "Final RMSE (on training data): 10.84\n"
          ],
          "name": "stdout"
        },
        {
          "output_type": "display_data",
          "data": {
            "image/png": "[encoded data removed]",
            "text/plain": [
              "<Figure size 1080x432 with 2 Axes>"
            ]
          },
          "metadata": {
            "tags": []
          }
        }
      ]
    },
    {
      "metadata": {
        "id": "AGmAlCSxDgLN",
        "colab_type": "text"
      },
      "cell_type": "markdown",
      "source": [
        "Train and Evaluate a Model"
      ]
    },
    {
      "metadata": {
        "id": "Ij6E_b_JDMVE",
        "colab_type": "code",
        "colab": {}
      },
      "cell_type": "code",
      "source": [
        "# From the TensorFlow validation tutorial\n",
        "# https://colab.research.google.com/notebooks/mlcc/validation.ipynb?utm_source=mlcc&utm_campaign=colab-external&utm_medium=referral&utm_content=validation-colab&hl=ko#scrollTo=_xSYTarykO8U\n",
        "def my_input_fn(features, targets, batch_size=1, shuffle=True, num_epochs=None):\n",
        "    \"\"\"Trains a linear regression model of multiple features.\n",
        "  \n",
        "    Args:\n",
        "      features: pandas DataFrame of features\n",
        "      targets: pandas DataFrame of targets\n",
        "      batch_size: Size of batches to be passed to the model\n",
        "      shuffle: True or False. Whether to shuffle the data.\n",
        "      num_epochs: Number of epochs for which data should be repeated. None = repeat indefinitely\n",
        "    Returns:\n",
        "      Tuple of (features, labels) for next data batch\n",
        "    \"\"\"\n",
        "    \n",
        "    # Convert pandas data into a dict of np arrays.\n",
        "    features = {key:np.array(value) for key,value in dict(features).items()}                                           \n",
        " \n",
        "    # Construct a dataset, and configure batching/repeating.\n",
        "    ds = Dataset.from_tensor_slices((features,targets)) # warning: 2GB limit\n",
        "    ds = ds.batch(batch_size).repeat(num_epochs)\n",
        "    \n",
        "    # Shuffle the data, if specified.\n",
        "    if shuffle:\n",
        "      ds = ds.shuffle(10000)\n",
        "    \n",
        "    # Return the next batch of data.\n",
        "    features, labels = ds.make_one_shot_iterator().get_next()\n",
        "    return features, labels"
      ],
      "execution_count": 0,
      "outputs": []
    },
    {
      "metadata": {
        "id": "ohynQy2VDQCM",
        "colab_type": "code",
        "colab": {}
      },
      "cell_type": "code",
      "source": [
        "# From the TensorFlow validation tutorial\n",
        "# https://colab.research.google.com/notebooks/mlcc/validation.ipynb?utm_source=mlcc&utm_campaign=colab-external&utm_medium=referral&utm_content=validation-colab&hl=ko#scrollTo=_xSYTarykO8U\n",
        "def construct_feature_columns(input_features):\n",
        "  \"\"\"Construct the TensorFlow Feature Columns.\n",
        "\n",
        "  Args:\n",
        "    input_features: The names of the numerical input features to use.\n",
        "  Returns:\n",
        "    A set of feature columns\n",
        "  \"\"\" \n",
        "  return set([tf.feature_column.numeric_column(my_feature)\n",
        "              for my_feature in input_features])"
      ],
      "execution_count": 0,
      "outputs": []
    },
    {
      "metadata": {
        "id": "3IE98KGXDT5-",
        "colab_type": "code",
        "colab": {}
      },
      "cell_type": "code",
      "source": [
        "# From the TensorFlow validation tutorial\n",
        "# https://colab.research.google.com/notebooks/mlcc/validation.ipynb?utm_source=mlcc&utm_campaign=colab-external&utm_medium=referral&utm_content=validation-colab&hl=ko#scrollTo=_xSYTarykO8U\n",
        "def train_model(\n",
        "    learning_rate,\n",
        "    steps,\n",
        "    batch_size,\n",
        "    training_examples,\n",
        "    training_targets,\n",
        "    validation_examples,\n",
        "    validation_targets):\n",
        "  \"\"\"Trains a linear regression model of multiple features.\n",
        "  \n",
        "  In addition to training, this function also prints training progress information,\n",
        "  as well as a plot of the training and validation loss over time.\n",
        "  \n",
        "  Args:\n",
        "    learning_rate: A `float`, the learning rate.\n",
        "    steps: A non-zero `int`, the total number of training steps. A training step\n",
        "      consists of a forward and backward pass using a single batch.\n",
        "    batch_size: A non-zero `int`, the batch size.\n",
        "    training_examples: A `DataFrame` containing one or more columns from\n",
        "      `boston_df` to use as input features for training.\n",
        "    training_targets: A `DataFrame` containing exactly one column from\n",
        "      `boston_df` to use as target for training.\n",
        "    validation_examples: A `DataFrame` containing one or more columns from\n",
        "      `boston_df` to use as input features for validation.\n",
        "    validation_targets: A `DataFrame` containing exactly one column from\n",
        "      `boston_df` to use as target for validation.\n",
        "      \n",
        "  Returns:\n",
        "    A `LinearRegressor` object trained on the training data.\n",
        "  \"\"\"\n",
        "\n",
        "  periods = 10\n",
        "  steps_per_period = steps / periods\n",
        "  \n",
        "  # Create a linear regressor object.\n",
        "  my_optimizer = tf.train.GradientDescentOptimizer(learning_rate=learning_rate)\n",
        "  my_optimizer = tf.contrib.estimator.clip_gradients_by_norm(my_optimizer, 5.0)\n",
        "  linear_regressor = tf.estimator.LinearRegressor(\n",
        "      feature_columns=construct_feature_columns(training_examples),\n",
        "      optimizer=my_optimizer\n",
        "  )\n",
        "  \n",
        "  # Create input functions.\n",
        "  training_input_fn = lambda: my_input_fn(\n",
        "      training_examples, \n",
        "      training_targets[\"medv\"], \n",
        "      batch_size=batch_size)\n",
        "  predict_training_input_fn = lambda: my_input_fn(\n",
        "      training_examples, \n",
        "      training_targets[\"medv\"], \n",
        "      num_epochs=1, \n",
        "      shuffle=False)\n",
        "  predict_validation_input_fn = lambda: my_input_fn(\n",
        "      validation_examples, validation_targets[\"medv\"], \n",
        "      num_epochs=1, \n",
        "      shuffle=False)\n",
        "\n",
        "  # Train the model, but do so inside a loop so that we can periodically assess\n",
        "  # loss metrics.\n",
        "  print(\"Training model...\")\n",
        "  print(\"RMSE (on training data):\")\n",
        "  training_rmse = []\n",
        "  validation_rmse = []\n",
        "  for period in range (0, periods):\n",
        "    # Train the model, starting from the prior state.\n",
        "    linear_regressor.train(\n",
        "        input_fn=training_input_fn,\n",
        "        steps=steps_per_period,\n",
        "    )\n",
        "    # Take a break and compute predictions.\n",
        "    training_predictions = linear_regressor.predict(input_fn=predict_training_input_fn)\n",
        "    training_predictions = np.array([item['predictions'][0] for item in training_predictions])\n",
        "    \n",
        "    validation_predictions = linear_regressor.predict(input_fn=predict_validation_input_fn)\n",
        "    validation_predictions = np.array([item['predictions'][0] for item in validation_predictions])\n",
        "    \n",
        "    \n",
        "    # Compute training and validation loss.\n",
        "    training_root_mean_squared_error = math.sqrt(\n",
        "        metrics.mean_squared_error(training_predictions, training_targets))\n",
        "    validation_root_mean_squared_error = math.sqrt(\n",
        "        metrics.mean_squared_error(validation_predictions, validation_targets))\n",
        "    # Occasionally print the current loss.\n",
        "    print(\"  period %02d : %0.2f\" % (period, training_root_mean_squared_error))\n",
        "    # Add the loss metrics from this period to our list.\n",
        "    training_rmse.append(training_root_mean_squared_error)\n",
        "    validation_rmse.append(validation_root_mean_squared_error)\n",
        "  print(\"Model training finished.\")\n",
        "\n",
        "  # Output a graph of loss metrics over periods.\n",
        "  plt.ylabel(\"RMSE\")\n",
        "  plt.xlabel(\"Periods\")\n",
        "  plt.title(\"Root Mean Squared Error vs. Periods\")\n",
        "  plt.tight_layout()\n",
        "  plt.plot(training_rmse, label=\"training\")\n",
        "  plt.plot(validation_rmse, label=\"validation\")\n",
        "  plt.legend()\n",
        "\n",
        "  return linear_regressor"
      ],
      "execution_count": 0,
      "outputs": []
    },
    {
      "metadata": {
        "id": "kJFLiVFi8DvR",
        "colab_type": "code",
        "colab": {}
      },
      "cell_type": "code",
      "source": [
        "# From the TensorFlow validation tutorial\n",
        "# https://colab.research.google.com/notebooks/mlcc/validation.ipynb?utm_source=mlcc&utm_campaign=colab-external&utm_medium=referral&utm_content=validation-colab&hl=ko#scrollTo=_xSYTarykO8U\n",
        "def my_input_fn(features, targets, batch_size=1, shuffle=True, num_epochs=None):\n",
        "    \"\"\"Trains a linear regression model of one feature.\n",
        "  \n",
        "    Args:\n",
        "      features: pandas DataFrame of features\n",
        "      targets: pandas DataFrame of targets\n",
        "      batch_size: Size of batches to be passed to the model\n",
        "      shuffle: True or False. Whether to shuffle the data.\n",
        "      num_epochs: Number of epochs for which data should be repeated. None = repeat indefinitely\n",
        "    Returns:\n",
        "      Tuple of (features, labels) for next data batch\n",
        "    \"\"\"\n",
        "    \n",
        "    # Convert pandas data into a dict of np arrays.\n",
        "    features = {key:np.array(value) for key,value in dict(features).items()}                                           \n",
        " \n",
        "    # Construct a dataset, and configure batching/repeating.\n",
        "    ds = Dataset.from_tensor_slices((features,targets)) # warning: 2GB limit\n",
        "    ds = ds.batch(batch_size).repeat(num_epochs)\n",
        "    \n",
        "    # Shuffle the data, if specified.\n",
        "    if shuffle:\n",
        "      ds = ds.shuffle(buffer_size=10000)\n",
        "    \n",
        "    # Return the next batch of data.\n",
        "    features, labels = ds.make_one_shot_iterator().get_next()\n",
        "    return features, labels"
      ],
      "execution_count": 0,
      "outputs": []
    },
    {
      "metadata": {
        "id": "9LFPjWP7DsAn",
        "colab_type": "code",
        "colab": {
          "base_uri": "https://localhost:8080/",
          "height": 635
        },
        "outputId": "320e3ea2-0251-4ab5-eac8-f9a378e1a07b"
      },
      "cell_type": "code",
      "source": [
        "# From the TensorFlow validation tutorial\n",
        "# https://colab.research.google.com/notebooks/mlcc/validation.ipynb?utm_source=mlcc&utm_campaign=colab-external&utm_medium=referral&utm_content=validation-colab&hl=ko#scrollTo=_xSYTarykO8U\n",
        "linear_regressor = train_model(\n",
        "    learning_rate=0.00003,\n",
        "    steps=300,\n",
        "    batch_size=3,\n",
        "    training_examples=training_examples,\n",
        "    training_targets=training_targets,\n",
        "    validation_examples=validation_examples,\n",
        "    validation_targets=validation_targets)"
      ],
      "execution_count": 253,
      "outputs": [
        {
          "output_type": "stream",
          "text": [
            "Training model...\n",
            "RMSE (on training data):\n",
            "  period 00 : 22.19\n",
            "  period 01 : 20.08\n",
            "  period 02 : 18.06\n",
            "  period 03 : 16.18\n",
            "  period 04 : 14.57\n",
            "  period 05 : 13.42\n",
            "  period 06 : 12.46\n",
            "  period 07 : 11.80\n",
            "  period 08 : 11.20\n",
            "  period 09 : 10.78\n",
            "Model training finished.\n"
          ],
          "name": "stdout"
        },
        {
          "output_type": "display_data",
          "data": {
            "image/png": "[encoded data removed]",
            "text/plain": [
              "<Figure size 576x396 with 1 Axes>"
            ]
          },
          "metadata": {
            "tags": []
          }
        }
      ]
    },
    {
      "metadata": {
        "id": "8U2Ta1mdDxm4",
        "colab_type": "text"
      },
      "cell_type": "markdown",
      "source": [
        "Evaluate on Test Data"
      ]
    },
    {
      "metadata": {
        "id": "d8_4rXc3GSBl",
        "colab_type": "code",
        "colab": {
          "base_uri": "https://localhost:8080/",
          "height": 35
        },
        "outputId": "8406ee49-abcf-4f61-bfd2-ead9f6f899db"
      },
      "cell_type": "code",
      "source": [
        "test_examples = preprocess_features(boston_test_df)\n",
        "test_targets = preprocess_targets(boston_test_df)\n",
        "\n",
        "predict_test_input_fn = lambda: my_input_fn(\n",
        "      test_examples, \n",
        "      test_targets[\"medv\"], \n",
        "      num_epochs=1, \n",
        "      shuffle=False)\n",
        "\n",
        "test_predictions = linear_regressor.predict(input_fn=predict_test_input_fn)\n",
        "test_predictions = np.array([item['predictions'][0] for item in test_predictions])\n",
        "\n",
        "root_mean_squared_error = math.sqrt(\n",
        "    metrics.mean_squared_error(test_predictions, test_targets))\n",
        "\n",
        "print(\"Final RMSE (on test data): %0.2f\" % root_mean_squared_error)"
      ],
      "execution_count": 260,
      "outputs": [
        {
          "output_type": "stream",
          "text": [
            "Final RMSE (on test data): 11.35\n"
          ],
          "name": "stdout"
        }
      ]
    }
  ]
}