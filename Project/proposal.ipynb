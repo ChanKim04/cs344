{
  "nbformat": 4,
  "nbformat_minor": 0,
  "metadata": {
    "colab": {
      "name": "proposal.ipynb",
      "version": "0.3.2",
      "provenance": []
    },
    "kernelspec": {
      "name": "python3",
      "display_name": "Python 3"
    }
  },
  "cells": [
    {
      "metadata": {
        "id": "O275A5ySH3Sk",
        "colab_type": "text"
      },
      "cell_type": "markdown",
      "source": [
        "I will do the final project to predict the crimes that take place in Grand Rapids. This is intended to prevent the user from being able to protect himself or herself before being exposed to crime by predicting where the crime is likely to occur in the GR.\n",
        "\n",
        "The data that I will use is the [GRPD Historic Crime Locations](http://grdata-grandrapids.opendata.arcgis.com/datasets/grpd-historic-crime-locations) provided by GRData. This dataset provides information on the types, locations, and times of crimes that took place in Grand Rapids from 2004 through 2017 and other information. For the technical aspect, I will start with extracting the characteristics of the data by linear regression and build a neural network for further approach, as in the Tensorflow crash-course approach."
      ]
    }
  ]
}