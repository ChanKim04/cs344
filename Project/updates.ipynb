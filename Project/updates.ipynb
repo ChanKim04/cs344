{
  "nbformat": 4,
  "nbformat_minor": 0,
  "metadata": {
    "colab": {
      "name": "updates.ipynb",
      "version": "0.3.2",
      "provenance": []
    },
    "kernelspec": {
      "name": "python3",
      "display_name": "Python 3"
    }
  },
  "cells": [
    {
      "cell_type": "markdown",
      "metadata": {
        "id": "bWgksWOLiqvV",
        "colab_type": "text"
      },
      "source": [
        "1. Data collection from GRData and National Centers for Environmental Information\n",
        "2. Cleansing crime data\n",
        "- add crime level according to offense code\n",
        "- edit date and time variable to  usable forms\n",
        "- delete unrelated offense variables\n",
        "3. build LSTM model\n",
        "- result: negative\n",
        "4. build a regression model\n",
        "- result: negative\n",
        "5. build another LSTM model"
      ]
    }
  ]
}