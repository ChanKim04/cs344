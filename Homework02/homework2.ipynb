{
 "cells": [
  {
   "cell_type": "markdown",
   "metadata": {},
   "source": [
    "# Homework2"
   ]
  },
  {
   "cell_type": "markdown",
   "metadata": {},
   "source": [
    "## 1"
   ]
  },
  {
   "cell_type": "code",
   "execution_count": 9,
   "metadata": {},
   "outputs": [
    {
     "name": "stdout",
     "output_type": "stream",
     "text": [
      "Number of each word in spam_corpus\n",
      "Counter({'I': 3, 'am': 2, 'spam': 2, 'do': 1, 'not': 1, 'like': 1, 'that': 1, 'spamiam': 1})\n",
      "\n",
      "Number of each word in ham_corpus\n",
      "Counter({'do': 2, 'i': 2, 'like': 1, 'green': 1, 'eggs': 1, 'and': 1, 'ham': 1})\n",
      "\n",
      "Probability of each word\n",
      "Counter({'I': 0.99, 'am': 0.99, 'spam': 0.99, 'not': 0.99, 'that': 0.99, 'spamiam': 0.99, 'do': 0.3333333333333333, 'like': 0.3333333333333333, 'i': 0.01, 'green': 0.01, 'eggs': 0.01, 'and': 0.01, 'ham': 0.01})\n",
      "\n",
      "The combined probability: 0.4999999999999997\tThis isn't spam.\n",
      "\n",
      "The combined probability: 0.9963403476669715\tThis is spam.\n",
      "\n",
      "The combined probability: 0.8799999999999998\tThis isn't spam.\n",
      "\n",
      "The combined probability: 0.1999999999999998\tThis isn't spam.\n",
      "\n"
     ]
    }
   ],
   "source": [
    "\"\"\"\n",
    "Homework02 exercise1  spam problem for CS 344 at Calvin College\n",
    "@author: Chan kIm\n",
    "@date: 03/08/2019\n",
    "\"\"\"\n",
    "import collections\n",
    "\n",
    "\n",
    "class Spam:\n",
    "\n",
    "    def __init__(self, bad, good):\n",
    "        # merges lists in the list into one list.\n",
    "        self.bad = []\n",
    "        for i in bad:\n",
    "            for j in i:\n",
    "                self.bad.append(j)\n",
    "        self.good = []\n",
    "        for i in good:\n",
    "            for j in i:\n",
    "                self.good.append(j)\n",
    "        # creates dictionaries - keys as texts in each list and values as the number of each text.\n",
    "        # uses collections.Counter to count number of each text and to make a hash table.\n",
    "        self.bad_hash = collections.Counter(self.bad)\n",
    "        self.good_hash = collections.Counter(self.good)\n",
    "        # counts the number of nonspam and spam messages\n",
    "        # In this case, there are two messages in each good and bad corpus.\n",
    "        self.nbad = len(bad)\n",
    "        self.ngood = len(good)\n",
    "        # merge two dictionaries into one for prob\n",
    "        merge = self.good_hash.copy()\n",
    "        merge.update(self.bad_hash)\n",
    "        prob = merge\n",
    "        # calculates the probability that an email containing it is a spam\n",
    "        # and stores the value\n",
    "        for i in list(merge.keys()):\n",
    "            g = 2 * self.good_hash[i]\n",
    "            b = self.bad_hash[i]\n",
    "            # minimum count 1\n",
    "            if g + b > 0:\n",
    "                prob[i] = max(0.01, min(0.99, min(1.0, b / self.nbad)\n",
    "                                        / (min(1.0, g / self.ngood)\n",
    "                                        + min(1.0, b / self.nbad))))\n",
    "            else:\n",
    "                prob[i] = 0\n",
    "        self.prob = prob\n",
    "\n",
    "    def spam_filtering(self, corpus):\n",
    "        prod = []\n",
    "        never_seen = 0.4\n",
    "        # compares the words in corpus to prob and stores the word's probabilities\n",
    "        for i in corpus:\n",
    "            if i in self.prob:\n",
    "                prod.append(self.prob[i])\n",
    "            else:\n",
    "                prod.append(never_seen)\n",
    "        prods = 1\n",
    "        not_prods = 1\n",
    "        # calculates the combined probability\n",
    "        for i in prod:\n",
    "            prods *= i\n",
    "            not_prods *= (1 - i)\n",
    "        calc = prods / (prods + not_prods)\n",
    "        # treats mail as spam if a probability is more than 0.9\n",
    "        if calc > 0.9:\n",
    "            return print(\"The combined probability: \" + str(calc) +\n",
    "                         \"\\tThis is spam.\\n\")\n",
    "        else:\n",
    "            return print(\"The combined probability: \" + str(calc) +\n",
    "                         \"\\tThis isn't spam.\\n\")\n",
    "\n",
    "\n",
    "if __name__ == '__main__':\n",
    "    spam_corpus = [[\"I\", \"am\", \"spam\", \"spam\", \"I\", \"am\"], [\"I\", \"do\", \"not\", \"like\", \"that\", \"spamiam\"]]\n",
    "    ham_corpus = [[\"do\", \"i\", \"like\", \"green\", \"eggs\", \"and\", \"ham\"], [\"i\", \"do\"]]\n",
    "\n",
    "    # Initialize the spam case\n",
    "    spam = Spam(spam_corpus, ham_corpus)\n",
    "    \n",
    "    print(\"Number of each word in spam_corpus\\n\" + str(spam.bad_hash))\n",
    "    print(\"\\nNumber of each word in ham_corpus\\n\" + str(spam.good_hash))\n",
    "    print(\"\\nProbability of each word\\n\" + str(spam.prob) + \"\\n\")\n",
    "    # test cases\n",
    "    test1 = [\"i\", \"spam\"]\n",
    "    test2 = [\"do\", \"i\", \"like\", \"green\", \"eggs\", \"spam\", \"I\", \"do\", \"not\", \"like\", \"that\", \"spamiam\", \"but\", \"bacon\"]\n",
    "    test3 = [\"do\", \"I\", \"like\", \"bacon\", \"tomato\", \"egg\",  \"and\", \"spam\"]\n",
    "    test4 = [\"do\", \"i\", \"like\", \"spam\"]\n",
    "    spam.spam_filtering(test1)\n",
    "    spam.spam_filtering(test2)\n",
    "    spam.spam_filtering(test3)\n",
    "    spam.spam_filtering(test4)\n"
   ]
  },
  {
   "cell_type": "markdown",
   "metadata": {},
   "source": [
    "Graham argues that this is a Baysian approach to SPAM. What makes it Bayesian?\n",
    "* The spam probabilities of individual words represent and filtering an email based on the overall probability makes it Bayesian. It considers all the evidence in the email, both good and bad to measure the probability of spam."
   ]
  },
  {
   "cell_type": "markdown",
   "metadata": {},
   "source": [
    "## 2.a"
   ]
  },
  {
   "cell_type": "code",
   "execution_count": 3,
   "metadata": {},
   "outputs": [
    {
     "name": "stdout",
     "output_type": "stream",
     "text": [
      "P(Cloudy)\n",
      "False: 0.5, True: 0.5\n",
      "False: 0.5, True: 0.5\n",
      "\n",
      "P(Sprinker | cloudy)\n",
      "False: 0.9, True: 0.1\n",
      "False: 0.9, True: 0.1\n",
      "\n",
      "P(Cloudy| the sprinkler is running and it’s not raining)\n",
      "False: 0.952, True: 0.0476\n",
      "False: 0.952, True: 0.0476\n",
      "\n",
      "P(WetGrass | it’s cloudy, the sprinkler is running and it’s raining)\n",
      "False: 0.01, True: 0.99\n",
      "False: 0.01, True: 0.99\n",
      "\n",
      "P(Cloudy | the grass is not wet)\n",
      "False: 0.639, True: 0.361\n",
      "False: 0.639, True: 0.361\n"
     ]
    }
   ],
   "source": [
    "\"\"\"\n",
    "Homework02 exercise2  Bayesian network problem for CS 344 at Calvin College\n",
    "@author: Chan kIm\n",
    "@date: 03/08/2019\n",
    "\"\"\"\n",
    "\n",
    "from probability import BayesNet, enumeration_ask, elimination_ask\n",
    "\n",
    "# Utility variables\n",
    "T, F = True, False\n",
    "\n",
    "# From AIMA code (probability.py) - Fig. 14.12 -  A multiply connected network with conditional probability tables\n",
    "exercises = BayesNet([\n",
    "    ('Cloudy', '', 0.5),\n",
    "    ('Sprinkler', 'Cloudy', {T: 0.10, F: 0.50}),\n",
    "    ('Rain', 'Cloudy', {T: 0.80, F: 0.20}),\n",
    "    ('WetGrass', 'Sprinkler Rain', {(T, T): 0.99, (T, F): 0.90, (F, T): 0.90, (F, F): 0.00})\n",
    "    ])\n",
    "\n",
    "print(\"P(Cloudy)\")\n",
    "print(enumeration_ask('Cloudy', dict(), exercises).show_approx())\n",
    "print(elimination_ask('Cloudy', dict(), exercises).show_approx())\n",
    "print(\"\\nP(Sprinker | cloudy)\")\n",
    "print(enumeration_ask('Sprinkler', dict(Cloudy=T), exercises).show_approx())\n",
    "print(elimination_ask('Sprinkler', dict(Cloudy=T), exercises).show_approx())\n",
    "print(\"\\nP(Cloudy| the sprinkler is running and it’s not raining)\")\n",
    "print(enumeration_ask('Cloudy', dict(Sprinkler=T, Rain=F), exercises).show_approx())\n",
    "print(elimination_ask('Cloudy', dict(Sprinkler=T, Rain=F), exercises).show_approx())\n",
    "print(\"\\nP(WetGrass | it’s cloudy, the sprinkler is running and it’s raining)\")\n",
    "print(enumeration_ask('WetGrass', dict(Cloudy=T, Sprinkler=T, Rain=T), exercises).show_approx())\n",
    "print(elimination_ask('WetGrass', dict(Cloudy=T, Sprinkler=T, Rain=T), exercises).show_approx())\n",
    "print(\"\\nP(Cloudy | the grass is not wet)\")\n",
    "print(enumeration_ask('Cloudy', dict(WetGrass=F), exercises).show_approx())\n",
    "print(elimination_ask('Cloudy', dict(WetGrass=F), exercises).show_approx())"
   ]
  },
  {
   "cell_type": "markdown",
   "metadata": {},
   "source": [
    "## 2.b\n",
    "Compute the number of independent values in the full joint probability distribution for this domain. Assume that no conditional independence relations are known to hold between these values.\n",
    "* With 4 Boolean variables, the joint has 2^4 - 1 = 15 independent values."
   ]
  },
  {
   "cell_type": "markdown",
   "metadata": {},
   "source": [
    "## 2.c\n",
    "Compute the number of independent values in the Bayesian network for this domain. Assume the conditional independence relations implied by the Bayes network.\n",
    "* Based on Figure 14.12(a), the total number of the independent conditional probability table entries is 1 + 2 + 2 + 4 = 9; therefore, the number of independent values is 9."
   ]
  },
  {
   "cell_type": "markdown",
   "metadata": {},
   "source": [
    "## 2.d\n",
    "Compute probabilities for the following:\n",
    "* P(Cloudy)\n",
    "\t*  P(C) = alpha <P(C), P(-C)> = <0.5, 0.5>\n",
    "* P(Sprinker | cloudy)\n",
    "\t* P(S | c) = alpha <P(S | c), P(-S | c)> = alpha <0.1 * 0.5, 0.9 * 0.5> = alpha <0.05, 0.45> = <0.1, 0.9>\n",
    "* P(Cloudy| the sprinkler is running and it’s not raining)\n",
    "\t* P(C | s, -r) = alpha P(C, s, -r) = alpha <P(C | s, -r), P(-C | s, -r)> = alpha <0.5 * 0.10 * 0.2, 0.5 * 0.5 * 0.8> = alpha <0.01, 0.2> = <0.0476, 0.952>\n",
    "* P(WetGrass | it’s cloudy, the sprinkler is running and it’s raining)\n",
    "\t* P(WG | c, s, r) = alpha P(WG, c, s, r) = alpha P(c) P(s) P(r) P(WG | s, r) = alpha P(c) P(s) P(r) <P(WG | s, r), P(-WG | s, r)> = alpha * 0.5 * 0.10 * 0.80 * <0.99, 0.01> = alpha <0.0396, 0.0004> = <0.99, 0.01>\n",
    "* P(Cloudy | the grass is not wet)\n",
    "\t* P(C | -wg) = alpha P(C, sr, -wg) = alpha SUMsr P(C) P(sr) P(-wg | sr) = alpha P(C) SUMsr P(sr) P(-wg | sr) = alpha 0.5 <0.08 * 0.01 + 0.02 * 0.10 + 0.72 * 0.10 + 0.18 * 1.00, 0.10 * 0.01 + 0.40 * 0.10 + 0.10 * 0.10 + 0.40 * 1.00> = alpha 0.5 < 0.2548, 0.451> = alpha <0.1274, 0.2255> = <0.361, 0.639>"
   ]
  }
 ],
 "metadata": {
  "kernelspec": {
   "display_name": "Python 3",
   "language": "python",
   "name": "python3"
  },
  "language_info": {
   "codemirror_mode": {
    "name": "ipython",
    "version": 3
   },
   "file_extension": ".py",
   "mimetype": "text/x-python",
   "name": "python",
   "nbconvert_exporter": "python",
   "pygments_lexer": "ipython3",
   "version": "3.6.7"
  }
 },
 "nbformat": 4,
 "nbformat_minor": 2
}
